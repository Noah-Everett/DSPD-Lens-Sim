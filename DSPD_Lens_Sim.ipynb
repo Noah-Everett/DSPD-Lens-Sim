{
  "nbformat": 4,
  "nbformat_minor": 0,
  "metadata": {
    "colab": {
      "provenance": [],
      "authorship_tag": "ABX9TyOc0cLdFbg+Wwo00TTKPw7M"
    },
    "kernelspec": {
      "name": "python3",
      "display_name": "Python 3"
    },
    "language_info": {
      "name": "python"
    }
  },
  "cells": [
    {
      "cell_type": "code",
      "execution_count": 7,
      "metadata": {
        "id": "Z0RGbT-Uweuv"
      },
      "outputs": [],
      "source": [
        "# Imports\n",
        "import numpy as np\n",
        "import matplotlib.pyplot as plt\n",
        "import matplotlib as mpl\n",
        "import matplotlib.ticker as ticker\n",
        "from mpl_toolkits import mplot3d\n",
        "from matplotlib import rcParams\n",
        "import copy\n",
        "import math"
      ]
    },
    {
      "cell_type": "code",
      "source": [
        "class surface:\n",
        "  def __init__( self, equation ):\n",
        "    self.equation = equation\n",
        "\n",
        "  def get_equation():\n",
        "    return self.equation;\n",
        "\n",
        "  def get_equation_eval( x, y ):\n",
        "    return self.equation( x, y )"
      ],
      "metadata": {
        "id": "5j_QZXngBycS"
      },
      "execution_count": 16,
      "outputs": []
    },
    {
      "cell_type": "code",
      "source": [
        "class lens_ellipse_circular( surface ):\n",
        "  def __init__( self, a, b ):\n",
        "    super().__init__( self.equation_3d )\n",
        "    self.a = a\n",
        "    self.b = b\n",
        "\n",
        "  def equation_2d( r ):\n",
        "    return ( self.b**2 - ( r*self.b/self.a )**2 )**(1/2)\n",
        "\n",
        "  def equation_3d( x, y ):\n",
        "    r = ( x**2 + y**2 )**(1/2)\n",
        "    return equation_ellipse_2d( r )\n",
        "\n",
        "  def get_position_incidence_2d( photon_yIntercept, photon_slope ):\n",
        "    x = ( -photon_slope * photon_yIntercept + self.b * ( photon_slope**2 + self.b**2/self.a**2 - photon_yIntercept**2/self.a**2 )**(1/2) ) / ( m**2 + self.b**2/self.a**2 )\n",
        "    y = equation_2d( x )\n",
        "    return ( x, y )\n",
        "\n",
        "  def get_position_incidence_3d( photon_position, photon_direction ):\n",
        "    # rz-plane where r2=x2+y2\n",
        "    r_photon_direction = ( photon_direction[ 0 ]**2 + photon_direction[ 1 ]**2 )**(1/2)\n",
        "    z_photon_direction = photon_direction[ 2 ]\n",
        "    photon_slope = z_photon_direction / r_photon_direction\n",
        "\n",
        "    r_photon_position = ( photon_position[ 0 ]**2 + photon_position[ 1 ]**2 )**(1/2)\n",
        "    z_photon_position = photon_position[ 0 ]\n",
        "    photon_yIntercept = z_photon_position - photon_slope * r_photon_position\n",
        "\n",
        "    ( r_incidence, z ) = self.get_position_incidence_2d( photon_yIntercept, photon_slope )\n",
        "\n",
        "    # xy-plane\n",
        "    photon_slope = photon_direction[ 1 ] / photon_direction[ 0 ] # redefinition of xy-slope\n",
        "    photon_yIntercept = photon_position[ 1 ] - photon_slope * photon_position[ 1 ]\n",
        "    x = ( -photon_slope * photon_yIntercept + ( -m**2 * r_incidence**2 - photon_yIntercept**2 + r_incidence**2 )**(1/2) ) / ( photon_slope**2 + 1 )\n",
        "    y = ( r_incidence**2 - x**2 )**(1/2)\n",
        "\n",
        "    return ( x, y, z )"
      ],
      "metadata": {
        "id": "bgYnSKvjtaKR"
      },
      "execution_count": 22,
      "outputs": []
    },
    {
      "cell_type": "code",
      "source": [
        "def get_reflection_s( n_1, n_2, theta_i ):\n",
        "  cos_theta_i = math.cos( theta_i )\n",
        "  sin_theta_i = math.sin( theta_i )\n",
        "  numerator   = n_1 * cos_theta_i - n_2 * math.sqrt( 1 - ( n_1 / n_2 * sin_theta_i ) ** 2 )\n",
        "  denominator = n_1 * cos_theta_i + n_2 * math.sqrt( 1 - ( n_1 / n_2 * sin_theta_i ) ** 2 )\n",
        "  return ( numerator / denominator ) ** 2\n",
        "\n",
        "def get_reflection_p( n_1, n_2, theta_i ):\n",
        "  cos_theta_i = math.cos( theta_i )\n",
        "  sin_theta_i = math.sin( theta_i )\n",
        "  numerator   = n_1 * ( 1 - ( n_1 / n_2 * sin_theta_i )**2 )**(1/2) - n_2 * cos_theta_i\n",
        "  denominator = n_1 * ( 1 - ( n_1 / n_2 * sin_theta_i )**2 )**(1/2) + n_2 * cos_theta_i\n",
        "  return ( numerator / denominator ) ** 2\n",
        "\n",
        "def get_reflection( n_1, n_2, theta_i, spRatio=1 ): # spRatio = 1 for natural light\n",
        "  return spRatio * get_reflection_s( n_1, n_2, theta_i ) / get_reflection_p( n_1, n_2, theta_i )\n",
        "\n",
        "class lens:\n",
        "  def __init__( self, position, direction, surface_1, surface_2 ):\n",
        "    self.position = position\n",
        "    self.direction = direction\n",
        "    self.surface_1 = surface_1\n",
        "    self.surface_2 = surface_2\n",
        "  \n",
        "  def get_position():\n",
        "    return self.position\n",
        "\n",
        "  def get_direction():\n",
        "    return self.direction\n",
        "\n",
        "  def get_surface_1():\n",
        "    return self.surface_1;\n",
        "  \n",
        "  def get_surface_2():\n",
        "    return self.surface_2;\n",
        "\n",
        "  def get_position_incidence_surface_1( photon_position, photo_direction ):\n",
        "    return surface_1.get_position_incidence_3d( photon_position, photo_direction )\n",
        "\n",
        "  def get_angle_reflection_surface_1( indexRefraction_1, indexRefraction_2, angle_incidence ):\n",
        "    return get_reflection( indexRefraction_1, indexRefraction_2, angle_incidence, 1 )\n",
        "  \n",
        "  def get_angle_reflection_surface_1( photon_position, photon_direction ):\n",
        "    return \"here\"\n",
        "\n",
        "  def get_angle_incidence_surface_1( photon_position, photo_direction ):\n",
        "    return \"here\"\n",
        "  \n",
        "  def get_angle_refraction( angle_incidence ):\n",
        "    return \"here\""
      ],
      "metadata": {
        "id": "wLWzj5uRB0Xh"
      },
      "execution_count": 25,
      "outputs": []
    }
  ]
}